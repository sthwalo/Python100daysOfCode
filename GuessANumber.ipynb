{
  "nbformat": 4,
  "nbformat_minor": 0,
  "metadata": {
    "colab": {
      "provenance": [],
      "authorship_tag": "ABX9TyPgmw1wa1wbRqoWTu0N3p/F",
      "include_colab_link": true
    },
    "kernelspec": {
      "name": "python3",
      "display_name": "Python 3"
    },
    "language_info": {
      "name": "python"
    }
  },
  "cells": [
    {
      "cell_type": "markdown",
      "metadata": {
        "id": "view-in-github",
        "colab_type": "text"
      },
      "source": [
        "<a href=\"https://colab.research.google.com/github/sthwalo/Python100daysOfCode/blob/main/GuessANumber.ipynb\" target=\"_parent\"><img src=\"https://colab.research.google.com/assets/colab-badge.svg\" alt=\"Open In Colab\"/></a>"
      ]
    },
    {
      "cell_type": "code",
      "source": [
        "print(\"Welcome to GUESS A NUMBER challenge\")\n",
        "print()\n",
        "print(\"Guess a number between 1 and 3000 and I will tell you if you are too high, too low, or you got it correct\")\n",
        "print()\n",
        "print(\"Here we go!!!\")\n",
        "print()\n",
        "myNumber = 1989\n",
        "limit = 3000\n",
        "\n",
        "attempt = 1\n",
        "\n",
        "while True:\n",
        "  userInput = int(input(\"Pick a number between 1 and 3000: >\"))\n",
        "  if userInput < 0:\n",
        "    print(\"🚫, 👎, 🤨 Sorry, but you can't guess a number that's zero or negative. Good bye!!!!\")\n",
        "    exit()\n",
        "\n",
        "  if userInput < myNumber:\n",
        "    print(\"⬇️, 😅, 🤦‍♂️ That's a little too low, but keep trying!\")\n",
        "    attempt += 1\n",
        "    \n",
        "  elif userInput > myNumber:\n",
        "    print(\"⬆️, 😮‍💨, 🤷‍♂️ That's a little too high, but you're getting closer!\")\n",
        "    attempt += 1\n",
        "    continue\n",
        "\n",
        "  elif userInput == myNumber:\n",
        "    print(\"✅, 🎉, 🥳 Congratulations! You guessed the number correctly. You win!!!\")\n",
        "    break\n",
        "  else:\n",
        "    print(\"The number you entered is out of bounds. Please enter a number between 1 and 3000.\")\n",
        "\n",
        "print(\"It took you\", attempt, \"attempt(s) to get the correct answer.\")\n",
        "  \n"
      ],
      "metadata": {
        "colab": {
          "base_uri": "https://localhost:8080/"
        },
        "id": "MWxbkUW1407x",
        "outputId": "d1499ad7-b239-46a5-a564-6cea512d0576"
      },
      "execution_count": 2,
      "outputs": [
        {
          "output_type": "stream",
          "name": "stdout",
          "text": [
            "Welcome to GUESS A NUMBER challenge\n",
            "\n",
            "Guess a number between 1 and 3000 and I will tell you if you are too high, too low, or you got it correct\n",
            "\n",
            "Here we go!!!\n",
            "\n",
            "Pick a number between 1 and 3000: >2345\n",
            "⬆️, 😮‍💨, 🤷‍♂️ That's a little too high, but you're getting closer!\n",
            "Pick a number between 1 and 3000: >1234\n",
            "⬇️, 😅, 🤦‍♂️ That's a little too low, but keep trying!\n",
            "Pick a number between 1 and 3000: >1989\n",
            "✅, 🎉, 🥳 Congratulations! You guessed the number correctly. You win!!!\n",
            "It took you 3 attempt(s) to get the correct answer.\n"
          ]
        }
      ]
    }
  ]
}